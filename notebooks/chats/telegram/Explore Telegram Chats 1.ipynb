{
 "cells": [
  {
   "cell_type": "markdown",
   "metadata": {
    "heading_collapsed": true
   },
   "source": [
    "## Summary"
   ]
  },
  {
   "cell_type": "markdown",
   "metadata": {
    "hidden": true
   },
   "source": [
    "Analyse Squirrel Finance Telegram Chat."
   ]
  },
  {
   "cell_type": "markdown",
   "metadata": {},
   "source": [
    "## Libs"
   ]
  },
  {
   "cell_type": "code",
   "execution_count": 1,
   "metadata": {
    "ExecuteTime": {
     "end_time": "2021-03-02T11:10:02.805452Z",
     "start_time": "2021-03-02T11:10:02.796182Z"
    }
   },
   "outputs": [],
   "source": [
    "import json"
   ]
  },
  {
   "cell_type": "code",
   "execution_count": 80,
   "metadata": {
    "ExecuteTime": {
     "end_time": "2021-03-02T12:30:15.843771Z",
     "start_time": "2021-03-02T12:30:15.835672Z"
    }
   },
   "outputs": [],
   "source": [
    "import numpy as np\n",
    "import pandas as pd"
   ]
  },
  {
   "cell_type": "markdown",
   "metadata": {},
   "source": [
    "## Inits"
   ]
  },
  {
   "cell_type": "code",
   "execution_count": 157,
   "metadata": {
    "ExecuteTime": {
     "end_time": "2021-03-02T13:30:34.530445Z",
     "start_time": "2021-03-02T13:30:34.149348Z"
    }
   },
   "outputs": [],
   "source": [
    "df = pd.read_json('../data/raw/channel_messages.json')"
   ]
  },
  {
   "cell_type": "markdown",
   "metadata": {},
   "source": [
    "## Explore and Clean"
   ]
  },
  {
   "cell_type": "code",
   "execution_count": 158,
   "metadata": {
    "ExecuteTime": {
     "end_time": "2021-03-02T13:30:36.612080Z",
     "start_time": "2021-03-02T13:30:36.587215Z"
    }
   },
   "outputs": [],
   "source": [
    "# sort by message id\n",
    "df.sort_values('id', inplace=True)\n",
    "df.reset_index(drop=True, inplace=True)"
   ]
  },
  {
   "cell_type": "code",
   "execution_count": 159,
   "metadata": {
    "ExecuteTime": {
     "end_time": "2021-03-02T13:31:27.568105Z",
     "start_time": "2021-03-02T13:31:27.467817Z"
    }
   },
   "outputs": [],
   "source": [
    "# pickle\n",
    "df.to_pickle('../data/interim/squirrelfinancetelegram.pkl')"
   ]
  },
  {
   "cell_type": "code",
   "execution_count": 27,
   "metadata": {
    "ExecuteTime": {
     "end_time": "2021-03-02T11:20:50.485070Z",
     "start_time": "2021-03-02T11:20:50.457920Z"
    }
   },
   "outputs": [
    {
     "data": {
      "text/plain": [
       "array(['MessageService', 'Message'], dtype=object)"
      ]
     },
     "execution_count": 27,
     "metadata": {},
     "output_type": "execute_result"
    }
   ],
   "source": [
    "df['_'].unique()\n",
    "# 2 types of messages. MessageService is by Bot or Announcement"
   ]
  },
  {
   "cell_type": "code",
   "execution_count": 32,
   "metadata": {
    "ExecuteTime": {
     "end_time": "2021-03-02T11:24:15.981322Z",
     "start_time": "2021-03-02T11:24:15.976480Z"
    }
   },
   "outputs": [],
   "source": [
    "# rename _ to message type\n",
    "df.rename(columns={\"_\": \"msg_type\"}, inplace=True)"
   ]
  },
  {
   "cell_type": "code",
   "execution_count": 49,
   "metadata": {
    "ExecuteTime": {
     "end_time": "2021-03-02T11:29:10.698634Z",
     "start_time": "2021-03-02T11:29:10.655223Z"
    }
   },
   "outputs": [
    {
     "data": {
      "text/plain": [
       "array([\"{'_': 'PeerChannel', 'channel_id': 1190829614}\"], dtype=object)"
      ]
     },
     "execution_count": 49,
     "metadata": {},
     "output_type": "execute_result"
    }
   ],
   "source": [
    "df['peer_id'].astype(str).unique()\n",
    "# only 1 type of value which is returning the channel id\n",
    "# hence can drop or replace with channel id"
   ]
  },
  {
   "cell_type": "code",
   "execution_count": 51,
   "metadata": {
    "ExecuteTime": {
     "end_time": "2021-03-02T11:30:33.625720Z",
     "start_time": "2021-03-02T11:30:33.608851Z"
    }
   },
   "outputs": [],
   "source": [
    "df.drop('peer_id', axis=1, inplace=True)"
   ]
  },
  {
   "cell_type": "code",
   "execution_count": 98,
   "metadata": {
    "ExecuteTime": {
     "end_time": "2021-03-02T12:42:45.802207Z",
     "start_time": "2021-03-02T12:42:45.794398Z"
    }
   },
   "outputs": [
    {
     "data": {
      "text/plain": [
       "0                                        None\n",
       "1     {'_': 'PeerUser', 'user_id': 481914851}\n",
       "2    {'_': 'PeerUser', 'user_id': 1289707287}\n",
       "Name: from_id, dtype: object"
      ]
     },
     "execution_count": 98,
     "metadata": {},
     "output_type": "execute_result"
    }
   ],
   "source": [
    "df.from_id.head(3)\n",
    "# gives user object.\n",
    "# better to parse and return the user id"
   ]
  },
  {
   "cell_type": "code",
   "execution_count": 99,
   "metadata": {
    "ExecuteTime": {
     "end_time": "2021-03-02T12:42:56.951155Z",
     "start_time": "2021-03-02T12:42:56.881024Z"
    }
   },
   "outputs": [],
   "source": [
    "# parse from_id\n",
    "df['from_id'] = df.from_id.apply(\n",
    "    lambda x: str(x['user_id']) if pd.notnull(x) else np.nan)"
   ]
  },
  {
   "cell_type": "code",
   "execution_count": 124,
   "metadata": {
    "ExecuteTime": {
     "end_time": "2021-03-02T13:11:13.282648Z",
     "start_time": "2021-03-02T13:11:13.257875Z"
    }
   },
   "outputs": [
    {
     "data": {
      "text/plain": [
       "2    []\n",
       "3    []\n",
       "4    []\n",
       "5    []\n",
       "6    []\n",
       "Name: entities, dtype: object"
      ]
     },
     "execution_count": 124,
     "metadata": {},
     "output_type": "execute_result"
    }
   ],
   "source": [
    "# is always null can drop\n",
    "df[df.entities.notnull()]['entities'].head()"
   ]
  },
  {
   "cell_type": "code",
   "execution_count": 125,
   "metadata": {
    "ExecuteTime": {
     "end_time": "2021-03-02T13:11:29.911676Z",
     "start_time": "2021-03-02T13:11:29.897567Z"
    }
   },
   "outputs": [],
   "source": [
    "df.drop('entities', axis=1, inplace=True)"
   ]
  },
  {
   "cell_type": "markdown",
   "metadata": {},
   "source": [
    "- 'mentioned' are those replies with @ (true/false)\n",
    "- 'silent' has True/False values. Only MessageService has true.\n",
    "- 'post' seems to be always false\n",
    "- 'from_scheduled' is nan or 0. (perhaps is scheduled message)\n",
    "- 'legacy' only has false\n",
    "- 'edit_hide' is nan or 0. (perhaps is if user edited message)\n",
    "- 'pinned' is nan or 0 or 1. (for user pinned msg is 1. nan is for messageService\n",
    "- 'from_id' changed to user_id\n",
    "- 'fwd_from' \n",
    "- 'via_bot_id' from the bot id\n",
    "- 'reply_to'\n",
    "- 'media'\n",
    "- 'reply_markup' - keyboard button\n",
    "- 'entities' - always null or blank list\n",
    "- 'views' - view count\n",
    "- 'forwards' - forward count\n",
    "- 'replies' - whether it was replied to (json object)\n",
    "- 'edit_date' - date of edit\n",
    "- 'post_author' - seems to be null at the moment\n",
    "- 'grouped_id' - not sure what id\n",
    "- 'restriction_reason' - seems to be all emtpy list\n",
    "- 'ttl_period' - seems to be all nan\n",
    "- 'action' - message action like add user. Usually no message involved."
   ]
  },
  {
   "cell_type": "code",
   "execution_count": 52,
   "metadata": {
    "ExecuteTime": {
     "end_time": "2021-03-02T11:30:37.591495Z",
     "start_time": "2021-03-02T11:30:37.550073Z"
    },
    "scrolled": false
   },
   "outputs": [
    {
     "name": "stdout",
     "output_type": "stream",
     "text": [
      "<class 'pandas.core.frame.DataFrame'>\n",
      "RangeIndex: 15103 entries, 0 to 15102\n",
      "Data columns (total 29 columns):\n",
      " #   Column              Non-Null Count  Dtype              \n",
      "---  ------              --------------  -----              \n",
      " 0   msg_type            15103 non-null  object             \n",
      " 1   id                  15103 non-null  int64              \n",
      " 2   date                15103 non-null  datetime64[ns, UTC]\n",
      " 3   message             13907 non-null  object             \n",
      " 4   out                 15103 non-null  bool               \n",
      " 5   mentioned           15103 non-null  bool               \n",
      " 6   media_unread        15103 non-null  bool               \n",
      " 7   silent              15103 non-null  bool               \n",
      " 8   post                15103 non-null  bool               \n",
      " 9   from_scheduled      13907 non-null  float64            \n",
      " 10  legacy              15103 non-null  bool               \n",
      " 11  edit_hide           13907 non-null  float64            \n",
      " 12  pinned              13907 non-null  float64            \n",
      " 13  from_id             15102 non-null  object             \n",
      " 14  fwd_from            111 non-null    object             \n",
      " 15  via_bot_id          94 non-null     float64            \n",
      " 16  reply_to            4386 non-null   object             \n",
      " 17  media               2230 non-null   object             \n",
      " 18  reply_markup        2 non-null      object             \n",
      " 19  entities            13907 non-null  object             \n",
      " 20  views               58 non-null     float64            \n",
      " 21  forwards            58 non-null     float64            \n",
      " 22  replies             4159 non-null   object             \n",
      " 23  edit_date           504 non-null    object             \n",
      " 24  post_author         0 non-null      float64            \n",
      " 25  grouped_id          8 non-null      float64            \n",
      " 26  restriction_reason  13907 non-null  object             \n",
      " 27  ttl_period          0 non-null      float64            \n",
      " 28  action              1196 non-null   object             \n",
      "dtypes: bool(6), datetime64[ns, UTC](1), float64(9), int64(1), object(12)\n",
      "memory usage: 2.7+ MB\n"
     ]
    }
   ],
   "source": [
    "df.info()"
   ]
  }
 ],
 "metadata": {
  "kernelspec": {
   "display_name": "Python 3",
   "language": "python",
   "name": "python3"
  },
  "language_info": {
   "codemirror_mode": {
    "name": "ipython",
    "version": 3
   },
   "file_extension": ".py",
   "mimetype": "text/x-python",
   "name": "python",
   "nbconvert_exporter": "python",
   "pygments_lexer": "ipython3",
   "version": "3.8.5"
  }
 },
 "nbformat": 4,
 "nbformat_minor": 4
}
